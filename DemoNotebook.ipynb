{
 "cells": [
  {
   "cell_type": "code",
   "execution_count": 1,
   "metadata": {
    "collapsed": true
   },
   "outputs": [],
   "source": [
    "from pandas import Series, DataFrame\n",
    "import pandas as pd"
   ]
  },
  {
   "cell_type": "code",
   "execution_count": 8,
   "metadata": {
    "collapsed": false,
    "scrolled": true
   },
   "outputs": [],
   "source": [
    "ser = Series((range(51,100,2)))\n",
    "#Series([x for x in range(51,100) if x%2==1])"
   ]
  },
  {
   "cell_type": "code",
   "execution_count": 12,
   "metadata": {
    "collapsed": false
   },
   "outputs": [
    {
     "data": {
      "text/plain": [
       "[51, 53, 55, 57, 59]"
      ]
     },
     "execution_count": 12,
     "metadata": {},
     "output_type": "execute_result"
    }
   ],
   "source": [
    "list(ser[:5].values)"
   ]
  },
  {
   "cell_type": "code",
   "execution_count": 15,
   "metadata": {
    "collapsed": false
   },
   "outputs": [
    {
     "data": {
      "text/plain": [
       "[51, 53, 55, 57, 59]"
      ]
     },
     "execution_count": 15,
     "metadata": {},
     "output_type": "execute_result"
    }
   ],
   "source": [
    "list(ser.values[:5])"
   ]
  },
  {
   "cell_type": "code",
   "execution_count": 21,
   "metadata": {
    "collapsed": false
   },
   "outputs": [
    {
     "data": {
      "text/plain": [
       "10    71\n",
       "11    73\n",
       "12    75\n",
       "13    77\n",
       "14    79\n",
       "dtype: int64"
      ]
     },
     "execution_count": 21,
     "metadata": {},
     "output_type": "execute_result"
    }
   ],
   "source": [
    "ser[(ser>70) & (ser <80)]\n",
    "ser[ser>70][ser<80]"
   ]
  },
  {
   "cell_type": "code",
   "execution_count": 23,
   "metadata": {
    "collapsed": false
   },
   "outputs": [
    {
     "data": {
      "text/plain": [
       "[True, False, True, True]"
      ]
     },
     "execution_count": 23,
     "metadata": {},
     "output_type": "execute_result"
    }
   ],
   "source": [
    "[(x in ser.values) or (x in ser) for x in [0,96,89,6]]"
   ]
  },
  {
   "cell_type": "code",
   "execution_count": 24,
   "metadata": {
    "collapsed": false
   },
   "outputs": [
    {
     "data": {
      "text/plain": [
       "California         NaN\n",
       "Ohio           70000.0\n",
       "Oregon         32000.0\n",
       "Texas         142000.0\n",
       "Utah               NaN\n",
       "dtype: float64"
      ]
     },
     "execution_count": 24,
     "metadata": {},
     "output_type": "execute_result"
    }
   ],
   "source": [
    "sdata = {'Ohio': 35000, 'Texas': 71000, 'Oregon': 16000, 'Utah': 5000}\n",
    "obj3 = Series(sdata)\n",
    "states = ['California', 'Ohio', 'Oregon', 'Texas']\n",
    "obj4 = Series(sdata, index=states)\n",
    "obj5 = obj3 + obj4\n",
    "obj5"
   ]
  },
  {
   "cell_type": "code",
   "execution_count": 28,
   "metadata": {
    "collapsed": false
   },
   "outputs": [
    {
     "data": {
      "text/plain": [
       "['Ohio', 'Oregon', 'Texas']"
      ]
     },
     "execution_count": 28,
     "metadata": {},
     "output_type": "execute_result"
    }
   ],
   "source": [
    "list(obj5[obj5.notnull()].index)"
   ]
  },
  {
   "cell_type": "code",
   "execution_count": 51,
   "metadata": {
    "collapsed": false
   },
   "outputs": [],
   "source": [
    "df = pd.read_csv('/Users/spandanbrahmbhatt/Downloads/Chicago_crime.csv',index_col=0).reset_index(drop=True)"
   ]
  },
  {
   "cell_type": "code",
   "execution_count": 52,
   "metadata": {
    "collapsed": false,
    "scrolled": true
   },
   "outputs": [
    {
     "data": {
      "text/html": [
       "<div>\n",
       "<table border=\"1\" class=\"dataframe\">\n",
       "  <thead>\n",
       "    <tr style=\"text-align: right;\">\n",
       "      <th></th>\n",
       "      <th>ID</th>\n",
       "      <th>Case Number</th>\n",
       "      <th>Date</th>\n",
       "      <th>Block</th>\n",
       "      <th>IUCR</th>\n",
       "      <th>Primary Type</th>\n",
       "      <th>Description</th>\n",
       "      <th>Location Description</th>\n",
       "      <th>Arrest</th>\n",
       "      <th>Domestic</th>\n",
       "      <th>...</th>\n",
       "      <th>Ward</th>\n",
       "      <th>Community Area</th>\n",
       "      <th>FBI Code</th>\n",
       "      <th>X Coordinate</th>\n",
       "      <th>Y Coordinate</th>\n",
       "      <th>Year</th>\n",
       "      <th>Updated On</th>\n",
       "      <th>Latitude</th>\n",
       "      <th>Longitude</th>\n",
       "      <th>Location</th>\n",
       "    </tr>\n",
       "  </thead>\n",
       "  <tbody>\n",
       "    <tr>\n",
       "      <th>0</th>\n",
       "      <td>3415797</td>\n",
       "      <td>HK472635</td>\n",
       "      <td>07/04/2004 01:30:00 AM</td>\n",
       "      <td>005XX E 105TH ST</td>\n",
       "      <td>1310</td>\n",
       "      <td>CRIMINAL DAMAGE</td>\n",
       "      <td>TO PROPERTY</td>\n",
       "      <td>RESIDENCE</td>\n",
       "      <td>False</td>\n",
       "      <td>False</td>\n",
       "      <td>...</td>\n",
       "      <td>9.0</td>\n",
       "      <td>49.0</td>\n",
       "      <td>14</td>\n",
       "      <td>1182020.0</td>\n",
       "      <td>1835463.0</td>\n",
       "      <td>2004</td>\n",
       "      <td>04/15/2016 08:55:02 AM</td>\n",
       "      <td>41.703732</td>\n",
       "      <td>-87.609089</td>\n",
       "      <td>(41.703731533, -87.609088836)</td>\n",
       "    </tr>\n",
       "    <tr>\n",
       "      <th>1</th>\n",
       "      <td>5623921</td>\n",
       "      <td>HN433010</td>\n",
       "      <td>06/28/2007 05:15:00 AM</td>\n",
       "      <td>063XX S INGLESIDE AVE</td>\n",
       "      <td>4387</td>\n",
       "      <td>OTHER OFFENSE</td>\n",
       "      <td>VIOLATE ORDER OF PROTECTION</td>\n",
       "      <td>RESIDENCE</td>\n",
       "      <td>False</td>\n",
       "      <td>True</td>\n",
       "      <td>...</td>\n",
       "      <td>20.0</td>\n",
       "      <td>42.0</td>\n",
       "      <td>26</td>\n",
       "      <td>1183816.0</td>\n",
       "      <td>1863135.0</td>\n",
       "      <td>2007</td>\n",
       "      <td>04/15/2016 08:55:02 AM</td>\n",
       "      <td>41.779625</td>\n",
       "      <td>-87.601651</td>\n",
       "      <td>(41.77962486, -87.601650748)</td>\n",
       "    </tr>\n",
       "    <tr>\n",
       "      <th>2</th>\n",
       "      <td>8117703</td>\n",
       "      <td>HT352098</td>\n",
       "      <td>05/09/2011 11:30:00 AM</td>\n",
       "      <td>064XX S TROY ST</td>\n",
       "      <td>0460</td>\n",
       "      <td>BATTERY</td>\n",
       "      <td>SIMPLE</td>\n",
       "      <td>APARTMENT</td>\n",
       "      <td>True</td>\n",
       "      <td>False</td>\n",
       "      <td>...</td>\n",
       "      <td>15.0</td>\n",
       "      <td>66.0</td>\n",
       "      <td>08B</td>\n",
       "      <td>1156497.0</td>\n",
       "      <td>1861673.0</td>\n",
       "      <td>2011</td>\n",
       "      <td>02/04/2016 06:33:39 AM</td>\n",
       "      <td>41.776207</td>\n",
       "      <td>-87.701845</td>\n",
       "      <td>(41.776207139, -87.701845312)</td>\n",
       "    </tr>\n",
       "    <tr>\n",
       "      <th>3</th>\n",
       "      <td>7626397</td>\n",
       "      <td>HS428765</td>\n",
       "      <td>07/25/2010 08:00:00 AM</td>\n",
       "      <td>026XX S CHRISTIANA AVE</td>\n",
       "      <td>0910</td>\n",
       "      <td>MOTOR VEHICLE THEFT</td>\n",
       "      <td>AUTOMOBILE</td>\n",
       "      <td>PARKING LOT/GARAGE(NON.RESID.)</td>\n",
       "      <td>False</td>\n",
       "      <td>False</td>\n",
       "      <td>...</td>\n",
       "      <td>22.0</td>\n",
       "      <td>30.0</td>\n",
       "      <td>07</td>\n",
       "      <td>1154454.0</td>\n",
       "      <td>1886367.0</td>\n",
       "      <td>2010</td>\n",
       "      <td>02/04/2016 06:33:39 AM</td>\n",
       "      <td>41.844012</td>\n",
       "      <td>-87.708677</td>\n",
       "      <td>(41.84401176, -87.708676885)</td>\n",
       "    </tr>\n",
       "    <tr>\n",
       "      <th>4</th>\n",
       "      <td>3897311</td>\n",
       "      <td>HL274719</td>\n",
       "      <td>04/04/2005 10:10:00 PM</td>\n",
       "      <td>054XX N WINTHROP AVE</td>\n",
       "      <td>0420</td>\n",
       "      <td>BATTERY</td>\n",
       "      <td>AGGRAVATED:KNIFE/CUTTING INSTR</td>\n",
       "      <td>APARTMENT</td>\n",
       "      <td>True</td>\n",
       "      <td>False</td>\n",
       "      <td>...</td>\n",
       "      <td>48.0</td>\n",
       "      <td>77.0</td>\n",
       "      <td>04B</td>\n",
       "      <td>1167890.0</td>\n",
       "      <td>1936228.0</td>\n",
       "      <td>2005</td>\n",
       "      <td>04/15/2016 08:55:02 AM</td>\n",
       "      <td>41.980555</td>\n",
       "      <td>-87.657928</td>\n",
       "      <td>(41.980554579, -87.657928425)</td>\n",
       "    </tr>\n",
       "  </tbody>\n",
       "</table>\n",
       "<p>5 rows × 22 columns</p>\n",
       "</div>"
      ],
      "text/plain": [
       "        ID Case Number                    Date                   Block  IUCR  \\\n",
       "0  3415797    HK472635  07/04/2004 01:30:00 AM        005XX E 105TH ST  1310   \n",
       "1  5623921    HN433010  06/28/2007 05:15:00 AM   063XX S INGLESIDE AVE  4387   \n",
       "2  8117703    HT352098  05/09/2011 11:30:00 AM         064XX S TROY ST  0460   \n",
       "3  7626397    HS428765  07/25/2010 08:00:00 AM  026XX S CHRISTIANA AVE  0910   \n",
       "4  3897311    HL274719  04/04/2005 10:10:00 PM    054XX N WINTHROP AVE  0420   \n",
       "\n",
       "          Primary Type                     Description  \\\n",
       "0      CRIMINAL DAMAGE                     TO PROPERTY   \n",
       "1        OTHER OFFENSE     VIOLATE ORDER OF PROTECTION   \n",
       "2              BATTERY                          SIMPLE   \n",
       "3  MOTOR VEHICLE THEFT                      AUTOMOBILE   \n",
       "4              BATTERY  AGGRAVATED:KNIFE/CUTTING INSTR   \n",
       "\n",
       "             Location Description Arrest Domestic  \\\n",
       "0                       RESIDENCE  False    False   \n",
       "1                       RESIDENCE  False     True   \n",
       "2                       APARTMENT   True    False   \n",
       "3  PARKING LOT/GARAGE(NON.RESID.)  False    False   \n",
       "4                       APARTMENT   True    False   \n",
       "\n",
       "               ...                Ward  Community Area  FBI Code  \\\n",
       "0              ...                 9.0            49.0        14   \n",
       "1              ...                20.0            42.0        26   \n",
       "2              ...                15.0            66.0       08B   \n",
       "3              ...                22.0            30.0        07   \n",
       "4              ...                48.0            77.0       04B   \n",
       "\n",
       "   X Coordinate Y Coordinate  Year              Updated On   Latitude  \\\n",
       "0     1182020.0    1835463.0  2004  04/15/2016 08:55:02 AM  41.703732   \n",
       "1     1183816.0    1863135.0  2007  04/15/2016 08:55:02 AM  41.779625   \n",
       "2     1156497.0    1861673.0  2011  02/04/2016 06:33:39 AM  41.776207   \n",
       "3     1154454.0    1886367.0  2010  02/04/2016 06:33:39 AM  41.844012   \n",
       "4     1167890.0    1936228.0  2005  04/15/2016 08:55:02 AM  41.980555   \n",
       "\n",
       "   Longitude                       Location  \n",
       "0 -87.609089  (41.703731533, -87.609088836)  \n",
       "1 -87.601651   (41.77962486, -87.601650748)  \n",
       "2 -87.701845  (41.776207139, -87.701845312)  \n",
       "3 -87.708677   (41.84401176, -87.708676885)  \n",
       "4 -87.657928  (41.980554579, -87.657928425)  \n",
       "\n",
       "[5 rows x 22 columns]"
      ]
     },
     "execution_count": 52,
     "metadata": {},
     "output_type": "execute_result"
    }
   ],
   "source": [
    "df.head()"
   ]
  },
  {
   "cell_type": "code",
   "execution_count": 59,
   "metadata": {
    "collapsed": false
   },
   "outputs": [
    {
     "data": {
      "text/plain": [
       "364"
      ]
     },
     "execution_count": 59,
     "metadata": {},
     "output_type": "execute_result"
    }
   ],
   "source": [
    "len(df.IUCR.unique())"
   ]
  },
  {
   "cell_type": "code",
   "execution_count": 65,
   "metadata": {
    "collapsed": false
   },
   "outputs": [
    {
     "data": {
      "text/plain": [
       "'APARTMENT'"
      ]
     },
     "execution_count": 65,
     "metadata": {},
     "output_type": "execute_result"
    }
   ],
   "source": [
    "df[df['Case Number'] == 'HL274719']['Location Description'].values[0]"
   ]
  },
  {
   "cell_type": "code",
   "execution_count": 70,
   "metadata": {
    "collapsed": false
   },
   "outputs": [
    {
     "data": {
      "text/plain": [
       "28.28701917411035"
      ]
     },
     "execution_count": 70,
     "metadata": {},
     "output_type": "execute_result"
    }
   ],
   "source": [
    "100*len(df[df.Arrest==True])/len(df)"
   ]
  },
  {
   "cell_type": "code",
   "execution_count": 71,
   "metadata": {
    "collapsed": false
   },
   "outputs": [
    {
     "data": {
      "text/plain": [
       "175218"
      ]
     },
     "execution_count": 71,
     "metadata": {},
     "output_type": "execute_result"
    }
   ],
   "source": [
    "len(df[df.Arrest==True])"
   ]
  },
  {
   "cell_type": "code",
   "execution_count": 75,
   "metadata": {
    "collapsed": false
   },
   "outputs": [
    {
     "name": "stderr",
     "output_type": "stream",
     "text": [
      "/Users/spandanbrahmbhatt/miniconda3/lib/python3.5/site-packages/pandas/core/ops.py:716: FutureWarning: elementwise comparison failed; returning scalar instead, but in the future will perform elementwise comparison\n",
      "  result = getattr(x, name)(y)\n"
     ]
    },
    {
     "ename": "TypeError",
     "evalue": "invalid type comparison",
     "output_type": "error",
     "traceback": [
      "\u001b[0;31m---------------------------------------------------------------------------\u001b[0m",
      "\u001b[0;31mTypeError\u001b[0m                                 Traceback (most recent call last)",
      "\u001b[0;32m<ipython-input-75-ad829ff2301a>\u001b[0m in \u001b[0;36m<module>\u001b[0;34m()\u001b[0m\n\u001b[1;32m      5\u001b[0m     \u001b[0marrest_year\u001b[0m\u001b[0;34m.\u001b[0m\u001b[0msetdefault\u001b[0m\u001b[0;34m(\u001b[0m\u001b[0myear\u001b[0m\u001b[0;34m[\u001b[0m\u001b[0mi\u001b[0m\u001b[0;34m]\u001b[0m\u001b[0;34m,\u001b[0m\u001b[0;36m0\u001b[0m\u001b[0;34m)\u001b[0m\u001b[0;34m\u001b[0m\u001b[0m\n\u001b[1;32m      6\u001b[0m     \u001b[0mdf_new\u001b[0m \u001b[0;34m=\u001b[0m \u001b[0mdf\u001b[0m\u001b[0;34m[\u001b[0m\u001b[0mdf\u001b[0m\u001b[0;34m[\u001b[0m\u001b[0;34m'Year'\u001b[0m\u001b[0;34m]\u001b[0m\u001b[0;34m==\u001b[0m\u001b[0myear\u001b[0m\u001b[0;34m[\u001b[0m\u001b[0mi\u001b[0m\u001b[0;34m]\u001b[0m\u001b[0;34m]\u001b[0m\u001b[0;34m\u001b[0m\u001b[0m\n\u001b[0;32m----> 7\u001b[0;31m     \u001b[0mnum\u001b[0m \u001b[0;34m=\u001b[0m \u001b[0mlen\u001b[0m\u001b[0;34m(\u001b[0m\u001b[0mdf_new\u001b[0m\u001b[0;34m[\u001b[0m\u001b[0mdf_new\u001b[0m\u001b[0;34m[\u001b[0m\u001b[0;34m'Arrest'\u001b[0m\u001b[0;34m]\u001b[0m\u001b[0;34m==\u001b[0m\u001b[0;34m'True'\u001b[0m\u001b[0;34m]\u001b[0m\u001b[0;34m)\u001b[0m\u001b[0;34m\u001b[0m\u001b[0m\n\u001b[0m\u001b[1;32m      8\u001b[0m     \u001b[0marrest_year\u001b[0m\u001b[0;34m[\u001b[0m\u001b[0myear\u001b[0m\u001b[0;34m[\u001b[0m\u001b[0mi\u001b[0m\u001b[0;34m]\u001b[0m\u001b[0;34m]\u001b[0m \u001b[0;34m=\u001b[0m \u001b[0mnum\u001b[0m\u001b[0;34m\u001b[0m\u001b[0m\n",
      "\u001b[0;32m/Users/spandanbrahmbhatt/miniconda3/lib/python3.5/site-packages/pandas/core/ops.py\u001b[0m in \u001b[0;36mwrapper\u001b[0;34m(self, other, axis)\u001b[0m\n\u001b[1;32m    761\u001b[0m                 \u001b[0mother\u001b[0m \u001b[0;34m=\u001b[0m \u001b[0mnp\u001b[0m\u001b[0;34m.\u001b[0m\u001b[0masarray\u001b[0m\u001b[0;34m(\u001b[0m\u001b[0mother\u001b[0m\u001b[0;34m)\u001b[0m\u001b[0;34m\u001b[0m\u001b[0m\n\u001b[1;32m    762\u001b[0m \u001b[0;34m\u001b[0m\u001b[0m\n\u001b[0;32m--> 763\u001b[0;31m             \u001b[0mres\u001b[0m \u001b[0;34m=\u001b[0m \u001b[0mna_op\u001b[0m\u001b[0;34m(\u001b[0m\u001b[0mvalues\u001b[0m\u001b[0;34m,\u001b[0m \u001b[0mother\u001b[0m\u001b[0;34m)\u001b[0m\u001b[0;34m\u001b[0m\u001b[0m\n\u001b[0m\u001b[1;32m    764\u001b[0m             \u001b[0;32mif\u001b[0m \u001b[0misscalar\u001b[0m\u001b[0;34m(\u001b[0m\u001b[0mres\u001b[0m\u001b[0;34m)\u001b[0m\u001b[0;34m:\u001b[0m\u001b[0;34m\u001b[0m\u001b[0m\n\u001b[1;32m    765\u001b[0m                 raise TypeError('Could not compare %s type with Series' %\n",
      "\u001b[0;32m/Users/spandanbrahmbhatt/miniconda3/lib/python3.5/site-packages/pandas/core/ops.py\u001b[0m in \u001b[0;36mna_op\u001b[0;34m(x, y)\u001b[0m\n\u001b[1;32m    716\u001b[0m                 \u001b[0mresult\u001b[0m \u001b[0;34m=\u001b[0m \u001b[0mgetattr\u001b[0m\u001b[0;34m(\u001b[0m\u001b[0mx\u001b[0m\u001b[0;34m,\u001b[0m \u001b[0mname\u001b[0m\u001b[0;34m)\u001b[0m\u001b[0;34m(\u001b[0m\u001b[0my\u001b[0m\u001b[0;34m)\u001b[0m\u001b[0;34m\u001b[0m\u001b[0m\n\u001b[1;32m    717\u001b[0m                 \u001b[0;32mif\u001b[0m \u001b[0mresult\u001b[0m \u001b[0;32mis\u001b[0m \u001b[0mNotImplemented\u001b[0m\u001b[0;34m:\u001b[0m\u001b[0;34m\u001b[0m\u001b[0m\n\u001b[0;32m--> 718\u001b[0;31m                     \u001b[0;32mraise\u001b[0m \u001b[0mTypeError\u001b[0m\u001b[0;34m(\u001b[0m\u001b[0;34m\"invalid type comparison\"\u001b[0m\u001b[0;34m)\u001b[0m\u001b[0;34m\u001b[0m\u001b[0m\n\u001b[0m\u001b[1;32m    719\u001b[0m             \u001b[0;32mexcept\u001b[0m \u001b[0mAttributeError\u001b[0m\u001b[0;34m:\u001b[0m\u001b[0;34m\u001b[0m\u001b[0m\n\u001b[1;32m    720\u001b[0m                 \u001b[0mresult\u001b[0m \u001b[0;34m=\u001b[0m \u001b[0mop\u001b[0m\u001b[0;34m(\u001b[0m\u001b[0mx\u001b[0m\u001b[0;34m,\u001b[0m \u001b[0my\u001b[0m\u001b[0;34m)\u001b[0m\u001b[0;34m\u001b[0m\u001b[0m\n",
      "\u001b[0;31mTypeError\u001b[0m: invalid type comparison"
     ]
    }
   ],
   "source": [
    "year = df.Year.unique()\n",
    "arrest_year = {}\n",
    "\n",
    "for i in range(len(year)):\n",
    "    arrest_year.setdefault(year[i],0)\n",
    "    df_new = df[df['Year']==year[i]]\n",
    "    num = len(df_new[df_new['Arrest']=='True'])\n",
    "    arrest_year[year[i]] = num"
   ]
  },
  {
   "cell_type": "code",
   "execution_count": 81,
   "metadata": {
    "collapsed": false
   },
   "outputs": [
    {
     "data": {
      "text/plain": [
       "2001    29.471499\n",
       "2002    28.871520\n",
       "2003    29.732053\n",
       "2004    30.542629\n",
       "2005    30.826288\n",
       "2006    30.208101\n",
       "2007    29.859424\n",
       "2008    25.428867\n",
       "2009    27.873011\n",
       "2010    26.982059\n",
       "2011    27.265963\n",
       "2012    27.056803\n",
       "2013    27.807609\n",
       "2014    28.669251\n",
       "2015    25.910498\n",
       "2016    19.093645\n",
       "Name: Year, dtype: float64"
      ]
     },
     "execution_count": 81,
     "metadata": {},
     "output_type": "execute_result"
    }
   ],
   "source": [
    "df[df.Arrest==True]['Year'].value_counts()/df['Year'].value_counts()*100"
   ]
  },
  {
   "cell_type": "code",
   "execution_count": null,
   "metadata": {
    "collapsed": true
   },
   "outputs": [],
   "source": []
  },
  {
   "cell_type": "code",
   "execution_count": 85,
   "metadata": {
    "collapsed": false
   },
   "outputs": [
    {
     "data": {
      "text/plain": [
       "True"
      ]
     },
     "execution_count": 85,
     "metadata": {},
     "output_type": "execute_result"
    }
   ],
   "source": [
    "df.ix[0,'Arrest']==False"
   ]
  },
  {
   "cell_type": "code",
   "execution_count": null,
   "metadata": {
    "collapsed": true
   },
   "outputs": [],
   "source": []
  },
  {
   "cell_type": "code",
   "execution_count": null,
   "metadata": {
    "collapsed": true
   },
   "outputs": [],
   "source": []
  },
  {
   "cell_type": "code",
   "execution_count": 79,
   "metadata": {
    "collapsed": false
   },
   "outputs": [
    {
     "name": "stderr",
     "output_type": "stream",
     "text": [
      "/Users/spandanbrahmbhatt/miniconda3/lib/python3.5/site-packages/numpy/lib/function_base.py:3834: RuntimeWarning: Invalid value encountered in percentile\n",
      "  RuntimeWarning)\n"
     ]
    },
    {
     "data": {
      "text/plain": [
       "count    557832.000000\n",
       "mean         22.602586\n",
       "std          13.802062\n",
       "min           1.000000\n",
       "25%                NaN\n",
       "50%                NaN\n",
       "75%                NaN\n",
       "max          50.000000\n",
       "Name: Ward, dtype: float64"
      ]
     },
     "execution_count": 79,
     "metadata": {},
     "output_type": "execute_result"
    }
   ],
   "source": [
    "df['Ward'].describe()"
   ]
  },
  {
   "cell_type": "code",
   "execution_count": null,
   "metadata": {
    "collapsed": true
   },
   "outputs": [],
   "source": []
  },
  {
   "cell_type": "code",
   "execution_count": null,
   "metadata": {
    "collapsed": true
   },
   "outputs": [],
   "source": [
    "# Reading a CSV"
   ]
  },
  {
   "cell_type": "code",
   "execution_count": 13,
   "metadata": {
    "collapsed": true
   },
   "outputs": [],
   "source": [
    "import pandas as pd\n",
    "df = pd.read_csv('/Users/spandanbrahmbhatt/Documents/DataAnalysisPython/data/stock_data/data/stocks/AAIT.csv')"
   ]
  },
  {
   "cell_type": "code",
   "execution_count": 15,
   "metadata": {
    "collapsed": false
   },
   "outputs": [
    {
     "data": {
      "text/html": [
       "<div>\n",
       "<table border=\"1\" class=\"dataframe\">\n",
       "  <thead>\n",
       "    <tr style=\"text-align: right;\">\n",
       "      <th></th>\n",
       "      <th>Date</th>\n",
       "      <th>Open</th>\n",
       "      <th>High</th>\n",
       "      <th>Low</th>\n",
       "      <th>Close</th>\n",
       "      <th>Volume</th>\n",
       "      <th>Adj Close</th>\n",
       "    </tr>\n",
       "  </thead>\n",
       "  <tbody>\n",
       "    <tr>\n",
       "      <th>0</th>\n",
       "      <td>2015-08-07</td>\n",
       "      <td>31.480000</td>\n",
       "      <td>31.629999</td>\n",
       "      <td>31.200001</td>\n",
       "      <td>31.370001</td>\n",
       "      <td>1100</td>\n",
       "      <td>31.370001</td>\n",
       "    </tr>\n",
       "    <tr>\n",
       "      <th>1</th>\n",
       "      <td>2015-08-06</td>\n",
       "      <td>31.260000</td>\n",
       "      <td>31.290001</td>\n",
       "      <td>31.090000</td>\n",
       "      <td>31.150000</td>\n",
       "      <td>600</td>\n",
       "      <td>31.150000</td>\n",
       "    </tr>\n",
       "    <tr>\n",
       "      <th>2</th>\n",
       "      <td>2015-08-05</td>\n",
       "      <td>31.690001</td>\n",
       "      <td>31.860001</td>\n",
       "      <td>31.510000</td>\n",
       "      <td>31.520000</td>\n",
       "      <td>67400</td>\n",
       "      <td>31.520000</td>\n",
       "    </tr>\n",
       "    <tr>\n",
       "      <th>3</th>\n",
       "      <td>2015-08-04</td>\n",
       "      <td>31.440001</td>\n",
       "      <td>31.840000</td>\n",
       "      <td>31.440001</td>\n",
       "      <td>31.469999</td>\n",
       "      <td>3700</td>\n",
       "      <td>31.469999</td>\n",
       "    </tr>\n",
       "    <tr>\n",
       "      <th>4</th>\n",
       "      <td>2015-08-03</td>\n",
       "      <td>31.670000</td>\n",
       "      <td>31.750000</td>\n",
       "      <td>31.549999</td>\n",
       "      <td>31.670000</td>\n",
       "      <td>4000</td>\n",
       "      <td>31.670000</td>\n",
       "    </tr>\n",
       "  </tbody>\n",
       "</table>\n",
       "</div>"
      ],
      "text/plain": [
       "         Date       Open       High        Low      Close  Volume  Adj Close\n",
       "0  2015-08-07  31.480000  31.629999  31.200001  31.370001    1100  31.370001\n",
       "1  2015-08-06  31.260000  31.290001  31.090000  31.150000     600  31.150000\n",
       "2  2015-08-05  31.690001  31.860001  31.510000  31.520000   67400  31.520000\n",
       "3  2015-08-04  31.440001  31.840000  31.440001  31.469999    3700  31.469999\n",
       "4  2015-08-03  31.670000  31.750000  31.549999  31.670000    4000  31.670000"
      ]
     },
     "execution_count": 15,
     "metadata": {},
     "output_type": "execute_result"
    }
   ],
   "source": [
    "df.head()"
   ]
  },
  {
   "cell_type": "code",
   "execution_count": 6,
   "metadata": {
    "collapsed": true
   },
   "outputs": [],
   "source": [
    "from datetime import datetime,date"
   ]
  },
  {
   "cell_type": "code",
   "execution_count": 7,
   "metadata": {
    "collapsed": false
   },
   "outputs": [],
   "source": [
    "df['day'] = df['Date'].apply(lambda x: datetime.strptime(x,'%Y-%m-%d').date().strftime('%A'))"
   ]
  },
  {
   "cell_type": "code",
   "execution_count": 14,
   "metadata": {
    "collapsed": true
   },
   "outputs": [],
   "source": [
    "df['Date'] = df['Date'].apply(lambda x: datetime.strptime(x,'%Y-%m-%d').date())"
   ]
  },
  {
   "cell_type": "code",
   "execution_count": 16,
   "metadata": {
    "collapsed": true
   },
   "outputs": [],
   "source": [
    "from glob import glob"
   ]
  },
  {
   "cell_type": "code",
   "execution_count": 24,
   "metadata": {
    "collapsed": false
   },
   "outputs": [],
   "source": [
    "all_df = []\n",
    "for fi in glob('/Users/spandanbrahmbhatt/Documents/DataAnalysisPython/data/stock_data/data/stocks/*.csv'):\n",
    "    name = fi.split('/')[-1].split('.')[0]\n",
    "    df = pd.read_csv(fi)\n",
    "    df['name'] = name\n",
    "    all_df.append(df)\n",
    "f_df = pd.concat(all_df,ignore_index=True)"
   ]
  },
  {
   "cell_type": "code",
   "execution_count": 25,
   "metadata": {
    "collapsed": false
   },
   "outputs": [
    {
     "data": {
      "text/html": [
       "<div>\n",
       "<table border=\"1\" class=\"dataframe\">\n",
       "  <thead>\n",
       "    <tr style=\"text-align: right;\">\n",
       "      <th></th>\n",
       "      <th>Date</th>\n",
       "      <th>Open</th>\n",
       "      <th>High</th>\n",
       "      <th>Low</th>\n",
       "      <th>Close</th>\n",
       "      <th>Volume</th>\n",
       "      <th>Adj Close</th>\n",
       "      <th>name</th>\n",
       "    </tr>\n",
       "  </thead>\n",
       "  <tbody>\n",
       "    <tr>\n",
       "      <th>0</th>\n",
       "      <td>2015-08-07</td>\n",
       "      <td>31.480000</td>\n",
       "      <td>31.629999</td>\n",
       "      <td>31.200001</td>\n",
       "      <td>31.370001</td>\n",
       "      <td>1100</td>\n",
       "      <td>31.370001</td>\n",
       "      <td>AAIT</td>\n",
       "    </tr>\n",
       "    <tr>\n",
       "      <th>1</th>\n",
       "      <td>2015-08-06</td>\n",
       "      <td>31.260000</td>\n",
       "      <td>31.290001</td>\n",
       "      <td>31.090000</td>\n",
       "      <td>31.150000</td>\n",
       "      <td>600</td>\n",
       "      <td>31.150000</td>\n",
       "      <td>AAIT</td>\n",
       "    </tr>\n",
       "    <tr>\n",
       "      <th>2</th>\n",
       "      <td>2015-08-05</td>\n",
       "      <td>31.690001</td>\n",
       "      <td>31.860001</td>\n",
       "      <td>31.510000</td>\n",
       "      <td>31.520000</td>\n",
       "      <td>67400</td>\n",
       "      <td>31.520000</td>\n",
       "      <td>AAIT</td>\n",
       "    </tr>\n",
       "    <tr>\n",
       "      <th>3</th>\n",
       "      <td>2015-08-04</td>\n",
       "      <td>31.440001</td>\n",
       "      <td>31.840000</td>\n",
       "      <td>31.440001</td>\n",
       "      <td>31.469999</td>\n",
       "      <td>3700</td>\n",
       "      <td>31.469999</td>\n",
       "      <td>AAIT</td>\n",
       "    </tr>\n",
       "    <tr>\n",
       "      <th>4</th>\n",
       "      <td>2015-08-03</td>\n",
       "      <td>31.670000</td>\n",
       "      <td>31.750000</td>\n",
       "      <td>31.549999</td>\n",
       "      <td>31.670000</td>\n",
       "      <td>4000</td>\n",
       "      <td>31.670000</td>\n",
       "      <td>AAIT</td>\n",
       "    </tr>\n",
       "  </tbody>\n",
       "</table>\n",
       "</div>"
      ],
      "text/plain": [
       "         Date       Open       High        Low      Close  Volume  Adj Close  \\\n",
       "0  2015-08-07  31.480000  31.629999  31.200001  31.370001    1100  31.370001   \n",
       "1  2015-08-06  31.260000  31.290001  31.090000  31.150000     600  31.150000   \n",
       "2  2015-08-05  31.690001  31.860001  31.510000  31.520000   67400  31.520000   \n",
       "3  2015-08-04  31.440001  31.840000  31.440001  31.469999    3700  31.469999   \n",
       "4  2015-08-03  31.670000  31.750000  31.549999  31.670000    4000  31.670000   \n",
       "\n",
       "   name  \n",
       "0  AAIT  \n",
       "1  AAIT  \n",
       "2  AAIT  \n",
       "3  AAIT  \n",
       "4  AAIT  "
      ]
     },
     "execution_count": 25,
     "metadata": {},
     "output_type": "execute_result"
    }
   ],
   "source": [
    "f_df.head()"
   ]
  },
  {
   "cell_type": "code",
   "execution_count": 36,
   "metadata": {
    "collapsed": false
   },
   "outputs": [
    {
     "data": {
      "text/plain": [
       "AAIT      878\n",
       "AAL      2483\n",
       "AAME     7796\n",
       "AAOI      470\n",
       "AAON     5703\n",
       "AAPL     8739\n",
       "AAVL      258\n",
       "AAWW     2452\n",
       "AAXJ     1757\n",
       "ABAC     1273\n",
       "ABAX     5931\n",
       "ABCB     5344\n",
       "ABCD     1425\n",
       "ABCO     3457\n",
       "ABCW      200\n",
       "ABDC      315\n",
       "ABGB      455\n",
       "ABIO     4529\n",
       "ABMD     7065\n",
       "ABTL     4119\n",
       "ABY       291\n",
       "ACAD     2819\n",
       "ACAS     4513\n",
       "ACAT     6329\n",
       "ACET     6394\n",
       "ACFC     2730\n",
       "ACFN     5918\n",
       "ACGL     5010\n",
       "ACHC     5396\n",
       "ACHN     2200\n",
       "         ... \n",
       "YDIV      493\n",
       "YDLE      213\n",
       "YHOO     4864\n",
       "YNDX     1059\n",
       "YOD      2068\n",
       "YORW     4094\n",
       "YPRO      361\n",
       "YRCW     7333\n",
       "YY        682\n",
       "Z        1020\n",
       "ZAGG     1997\n",
       "ZAZA     5904\n",
       "ZBRA     6042\n",
       "ZEUS     5392\n",
       "ZFGN      287\n",
       "ZGNX     1184\n",
       "ZHNE     2952\n",
       "ZINC     2013\n",
       "ZION     6394\n",
       "ZIONW    1314\n",
       "ZIOP     2506\n",
       "ZIV      1180\n",
       "ZIXI     6486\n",
       "ZLTQ      956\n",
       "ZN       2165\n",
       "ZNGA      915\n",
       "ZSAN      135\n",
       "ZSPH      288\n",
       "ZU        434\n",
       "ZUMZ     2582\n",
       "Name: name, dtype: int64"
      ]
     },
     "execution_count": 36,
     "metadata": {},
     "output_type": "execute_result"
    }
   ],
   "source": [
    "f_df['name'].value_counts().sort_index()"
   ]
  },
  {
   "cell_type": "code",
   "execution_count": null,
   "metadata": {
    "collapsed": true
   },
   "outputs": [],
   "source": []
  },
  {
   "cell_type": "code",
   "execution_count": null,
   "metadata": {
    "collapsed": true
   },
   "outputs": [],
   "source": []
  },
  {
   "cell_type": "code",
   "execution_count": null,
   "metadata": {
    "collapsed": true
   },
   "outputs": [],
   "source": []
  },
  {
   "cell_type": "markdown",
   "metadata": {},
   "source": [
    "# AAIT Box Plot"
   ]
  },
  {
   "cell_type": "code",
   "execution_count": 7,
   "metadata": {
    "collapsed": true
   },
   "outputs": [],
   "source": [
    "import pandas as pd\n",
    "import seaborn as sns\n",
    "from matplotlib import pyplot as plt\n",
    "from datetime import datetime,date,timedelta\n",
    "%matplotlib inline"
   ]
  },
  {
   "cell_type": "code",
   "execution_count": 12,
   "metadata": {
    "collapsed": true
   },
   "outputs": [],
   "source": [
    "df = pd.read_csv('/Users/spandanbrahmbhatt/Documents/DataAnalysisPython/data/stock_data/data/stocks/AAIT.csv')"
   ]
  },
  {
   "cell_type": "code",
   "execution_count": 13,
   "metadata": {
    "collapsed": false
   },
   "outputs": [
    {
     "data": {
      "text/html": [
       "<div>\n",
       "<table border=\"1\" class=\"dataframe\">\n",
       "  <thead>\n",
       "    <tr style=\"text-align: right;\">\n",
       "      <th></th>\n",
       "      <th>Date</th>\n",
       "      <th>Open</th>\n",
       "      <th>High</th>\n",
       "      <th>Low</th>\n",
       "      <th>Close</th>\n",
       "      <th>Volume</th>\n",
       "      <th>Adj Close</th>\n",
       "    </tr>\n",
       "  </thead>\n",
       "  <tbody>\n",
       "    <tr>\n",
       "      <th>0</th>\n",
       "      <td>2015-08-07</td>\n",
       "      <td>31.48</td>\n",
       "      <td>31.629999</td>\n",
       "      <td>31.200001</td>\n",
       "      <td>31.370001</td>\n",
       "      <td>1100</td>\n",
       "      <td>31.370001</td>\n",
       "    </tr>\n",
       "    <tr>\n",
       "      <th>1</th>\n",
       "      <td>2015-08-06</td>\n",
       "      <td>31.26</td>\n",
       "      <td>31.290001</td>\n",
       "      <td>31.090000</td>\n",
       "      <td>31.150000</td>\n",
       "      <td>600</td>\n",
       "      <td>31.150000</td>\n",
       "    </tr>\n",
       "  </tbody>\n",
       "</table>\n",
       "</div>"
      ],
      "text/plain": [
       "         Date   Open       High        Low      Close  Volume  Adj Close\n",
       "0  2015-08-07  31.48  31.629999  31.200001  31.370001    1100  31.370001\n",
       "1  2015-08-06  31.26  31.290001  31.090000  31.150000     600  31.150000"
      ]
     },
     "execution_count": 13,
     "metadata": {},
     "output_type": "execute_result"
    }
   ],
   "source": [
    "df.head(2)"
   ]
  },
  {
   "cell_type": "code",
   "execution_count": 14,
   "metadata": {
    "collapsed": false
   },
   "outputs": [],
   "source": [
    "new_df = df[['Date','High']]"
   ]
  },
  {
   "cell_type": "code",
   "execution_count": 15,
   "metadata": {
    "collapsed": false
   },
   "outputs": [
    {
     "name": "stderr",
     "output_type": "stream",
     "text": [
      "/Users/spandanbrahmbhatt/miniconda3/lib/python3.5/site-packages/pandas/core/indexing.py:465: SettingWithCopyWarning: \n",
      "A value is trying to be set on a copy of a slice from a DataFrame.\n",
      "Try using .loc[row_indexer,col_indexer] = value instead\n",
      "\n",
      "See the caveats in the documentation: http://pandas.pydata.org/pandas-docs/stable/indexing.html#indexing-view-versus-copy\n",
      "  self.obj[item] = s\n"
     ]
    }
   ],
   "source": [
    "new_df.loc[:,'Date'] = new_df['Date'].apply(lambda x : datetime.strptime(x,'%Y-%m-%d').strftime('%Y'))\n"
   ]
  },
  {
   "cell_type": "code",
   "execution_count": 34,
   "metadata": {
    "collapsed": false
   },
   "outputs": [
    {
     "data": {
      "text/plain": [
       "37.709998999999996"
      ]
     },
     "execution_count": 34,
     "metadata": {},
     "output_type": "execute_result"
    }
   ],
   "source": []
  },
  {
   "cell_type": "code",
   "execution_count": 36,
   "metadata": {
    "collapsed": false,
    "scrolled": false
   },
   "outputs": [
    {
     "data": {
      "image/png": "[encoded data removed]",
      "text/plain": [
       "<matplotlib.figure.Figure at 0x11f0d9048>"
      ]
     },
     "metadata": {},
     "output_type": "display_data"
    }
   ],
   "source": [
    "plt.subplots(figsize=(20,8))\n",
    "sns.set_style('whitegrid')\n",
    "ax = sns.boxplot(x='Date',y='High',data=new_df,color='#3778bf')\n",
    "ax.set_title('Distribution of stocks of AAIT over years')\n",
    "plt.setp(ax.xaxis.get_majorticklabels(), rotation=45)\n",
    "ax.xaxis.get_label().set_fontsize(30)\n",
    "ax.yaxis.get_label().set_fontsize(30)\n",
    "ax.title.set_fontsize(36)\n",
    "ax.tick_params(axis='x', which='major',labelsize=24)\n",
    "ax.tick_params(axis='y', which='major',labelsize=24)\n",
    "#plt.ylim((0.8*new_df['High'].min(),1.2*new_df['High'].max()))"
   ]
  },
  {
   "cell_type": "code",
   "execution_count": 41,
   "metadata": {
    "collapsed": false
   },
   "outputs": [],
   "source": [
    "us_election = pd.read_csv('/Users/spandanbrahmbhatt/Downloads/usa-2016-presidential-election-by-county.csv',error_bad_lines=False,sep=';')"
   ]
  },
  {
   "cell_type": "code",
   "execution_count": 42,
   "metadata": {
    "collapsed": false
   },
   "outputs": [
    {
     "data": {
      "text/html": [
       "<div>\n",
       "<table border=\"1\" class=\"dataframe\">\n",
       "  <thead>\n",
       "    <tr style=\"text-align: right;\">\n",
       "      <th></th>\n",
       "      <th>State</th>\n",
       "      <th>ST</th>\n",
       "      <th>Fips</th>\n",
       "      <th>County</th>\n",
       "      <th>precincts</th>\n",
       "      <th>Atwood F</th>\n",
       "      <th>Castle D</th>\n",
       "      <th>Clinton H</th>\n",
       "      <th>Copeland S</th>\n",
       "      <th>De la fuente R</th>\n",
       "      <th>...</th>\n",
       "      <th>autumn_TMIN</th>\n",
       "      <th>nearest_county</th>\n",
       "      <th>temp</th>\n",
       "      <th>precip</th>\n",
       "      <th>temp_bins</th>\n",
       "      <th>lat_bins</th>\n",
       "      <th>lon_bins</th>\n",
       "      <th>precip_bins</th>\n",
       "      <th>elevation_bins</th>\n",
       "      <th>Geo Shape</th>\n",
       "    </tr>\n",
       "  </thead>\n",
       "  <tbody>\n",
       "    <tr>\n",
       "      <th>0</th>\n",
       "      <td>Alabama</td>\n",
       "      <td>AL</td>\n",
       "      <td>1089</td>\n",
       "      <td>Madison</td>\n",
       "      <td>74</td>\n",
       "      <td>NaN</td>\n",
       "      <td>NaN</td>\n",
       "      <td>62435</td>\n",
       "      <td>NaN</td>\n",
       "      <td>NaN</td>\n",
       "      <td>...</td>\n",
       "      <td>479.0</td>\n",
       "      <td>1089.0</td>\n",
       "      <td>15.333333</td>\n",
       "      <td>1417.828</td>\n",
       "      <td>14.9, 16.6</td>\n",
       "      <td>34.7630896956, -86.5502065354</td>\n",
       "      <td>(-87.2,-84.5]</td>\n",
       "      <td>(1.39e+03,4.3e+03]</td>\n",
       "      <td>(167,216]</td>\n",
       "      <td>{\"type\": \"Polygon\", \"coordinates\": [[[-86.6413...</td>\n",
       "    </tr>\n",
       "    <tr>\n",
       "      <th>1</th>\n",
       "      <td>Arizona</td>\n",
       "      <td>AZ</td>\n",
       "      <td>4021</td>\n",
       "      <td>Pinal</td>\n",
       "      <td>102</td>\n",
       "      <td>NaN</td>\n",
       "      <td>NaN</td>\n",
       "      <td>29546</td>\n",
       "      <td>NaN</td>\n",
       "      <td>NaN</td>\n",
       "      <td>...</td>\n",
       "      <td>NaN</td>\n",
       "      <td>4021.0</td>\n",
       "      <td>NaN</td>\n",
       "      <td>NaN</td>\n",
       "      <td>NaN</td>\n",
       "      <td>32.9043091104, -111.344713905</td>\n",
       "      <td>[-164,-109]</td>\n",
       "      <td>NaN</td>\n",
       "      <td>(572,1.01e+03]</td>\n",
       "      <td>{\"type\": \"Polygon\", \"coordinates\": [[[-111.686...</td>\n",
       "    </tr>\n",
       "    <tr>\n",
       "      <th>2</th>\n",
       "      <td>Alabama</td>\n",
       "      <td>AL</td>\n",
       "      <td>1005</td>\n",
       "      <td>Barbour</td>\n",
       "      <td>18</td>\n",
       "      <td>NaN</td>\n",
       "      <td>NaN</td>\n",
       "      <td>4848</td>\n",
       "      <td>NaN</td>\n",
       "      <td>NaN</td>\n",
       "      <td>...</td>\n",
       "      <td>512.0</td>\n",
       "      <td>1005.0</td>\n",
       "      <td>17.333333</td>\n",
       "      <td>NaN</td>\n",
       "      <td>16.6, 18.5</td>\n",
       "      <td>31.8696032203, -85.3931969781</td>\n",
       "      <td>(-87.2,-84.5]</td>\n",
       "      <td>NaN</td>\n",
       "      <td>(167,216]</td>\n",
       "      <td>{\"type\": \"Polygon\", \"coordinates\": [[[-85.4298...</td>\n",
       "    </tr>\n",
       "    <tr>\n",
       "      <th>3</th>\n",
       "      <td>Alabama</td>\n",
       "      <td>AL</td>\n",
       "      <td>1121</td>\n",
       "      <td>Talladega</td>\n",
       "      <td>28</td>\n",
       "      <td>NaN</td>\n",
       "      <td>NaN</td>\n",
       "      <td>12108</td>\n",
       "      <td>NaN</td>\n",
       "      <td>NaN</td>\n",
       "      <td>...</td>\n",
       "      <td>NaN</td>\n",
       "      <td>1121.0</td>\n",
       "      <td>NaN</td>\n",
       "      <td>NaN</td>\n",
       "      <td>NaN</td>\n",
       "      <td>33.3800574111, -86.1659069245</td>\n",
       "      <td>(-87.2,-84.5]</td>\n",
       "      <td>NaN</td>\n",
       "      <td>(105,167]</td>\n",
       "      <td>{\"type\": \"Polygon\", \"coordinates\": [[[-86.3030...</td>\n",
       "    </tr>\n",
       "    <tr>\n",
       "      <th>4</th>\n",
       "      <td>Arkansas</td>\n",
       "      <td>AR</td>\n",
       "      <td>5017</td>\n",
       "      <td>Chicot</td>\n",
       "      <td>12</td>\n",
       "      <td>NaN</td>\n",
       "      <td>4.0</td>\n",
       "      <td>2350</td>\n",
       "      <td>NaN</td>\n",
       "      <td>NaN</td>\n",
       "      <td>...</td>\n",
       "      <td>530.5</td>\n",
       "      <td>5017.0</td>\n",
       "      <td>17.833333</td>\n",
       "      <td>1419.987</td>\n",
       "      <td>16.6, 18.5</td>\n",
       "      <td>33.2672546379, -91.2939735998</td>\n",
       "      <td>(-93.6,-90.4]</td>\n",
       "      <td>(1.39e+03,4.3e+03]</td>\n",
       "      <td>(38.9,105]</td>\n",
       "      <td>{\"type\": \"Polygon\", \"coordinates\": [[[-91.4573...</td>\n",
       "    </tr>\n",
       "  </tbody>\n",
       "</table>\n",
       "<p>5 rows × 144 columns</p>\n",
       "</div>"
      ],
      "text/plain": [
       "      State  ST  Fips     County  precincts  Atwood F  Castle D  Clinton H  \\\n",
       "0   Alabama  AL  1089    Madison         74       NaN       NaN      62435   \n",
       "1   Arizona  AZ  4021      Pinal        102       NaN       NaN      29546   \n",
       "2   Alabama  AL  1005    Barbour         18       NaN       NaN       4848   \n",
       "3   Alabama  AL  1121  Talladega         28       NaN       NaN      12108   \n",
       "4  Arkansas  AR  5017     Chicot         12       NaN       4.0       2350   \n",
       "\n",
       "   Copeland S  De la fuente R  \\\n",
       "0         NaN             NaN   \n",
       "1         NaN             NaN   \n",
       "2         NaN             NaN   \n",
       "3         NaN             NaN   \n",
       "4         NaN             NaN   \n",
       "\n",
       "                         ...                          autumn_TMIN  \\\n",
       "0                        ...                                479.0   \n",
       "1                        ...                                  NaN   \n",
       "2                        ...                                512.0   \n",
       "3                        ...                                  NaN   \n",
       "4                        ...                                530.5   \n",
       "\n",
       "   nearest_county       temp    precip   temp_bins  \\\n",
       "0          1089.0  15.333333  1417.828  14.9, 16.6   \n",
       "1          4021.0        NaN       NaN         NaN   \n",
       "2          1005.0  17.333333       NaN  16.6, 18.5   \n",
       "3          1121.0        NaN       NaN         NaN   \n",
       "4          5017.0  17.833333  1419.987  16.6, 18.5   \n",
       "\n",
       "                        lat_bins       lon_bins         precip_bins  \\\n",
       "0  34.7630896956, -86.5502065354  (-87.2,-84.5]  (1.39e+03,4.3e+03]   \n",
       "1  32.9043091104, -111.344713905    [-164,-109]                 NaN   \n",
       "2  31.8696032203, -85.3931969781  (-87.2,-84.5]                 NaN   \n",
       "3  33.3800574111, -86.1659069245  (-87.2,-84.5]                 NaN   \n",
       "4  33.2672546379, -91.2939735998  (-93.6,-90.4]  (1.39e+03,4.3e+03]   \n",
       "\n",
       "   elevation_bins                                          Geo Shape  \n",
       "0       (167,216]  {\"type\": \"Polygon\", \"coordinates\": [[[-86.6413...  \n",
       "1  (572,1.01e+03]  {\"type\": \"Polygon\", \"coordinates\": [[[-111.686...  \n",
       "2       (167,216]  {\"type\": \"Polygon\", \"coordinates\": [[[-85.4298...  \n",
       "3       (105,167]  {\"type\": \"Polygon\", \"coordinates\": [[[-86.3030...  \n",
       "4      (38.9,105]  {\"type\": \"Polygon\", \"coordinates\": [[[-91.4573...  \n",
       "\n",
       "[5 rows x 144 columns]"
      ]
     },
     "execution_count": 42,
     "metadata": {},
     "output_type": "execute_result"
    }
   ],
   "source": [
    "us_election.head()"
   ]
  },
  {
   "cell_type": "code",
   "execution_count": 44,
   "metadata": {
    "collapsed": true
   },
   "outputs": [],
   "source": [
    "candidates_df = us_election[['ST','Clinton H','Johnson G','Stein J','Trump D']]"
   ]
  },
  {
   "cell_type": "code",
   "execution_count": 45,
   "metadata": {
    "collapsed": false
   },
   "outputs": [
    {
     "data": {
      "text/html": [
       "<div>\n",
       "<table border=\"1\" class=\"dataframe\">\n",
       "  <thead>\n",
       "    <tr style=\"text-align: right;\">\n",
       "      <th></th>\n",
       "      <th>ST</th>\n",
       "      <th>Clinton H</th>\n",
       "      <th>Johnson G</th>\n",
       "      <th>Stein J</th>\n",
       "      <th>Trump D</th>\n",
       "    </tr>\n",
       "  </thead>\n",
       "  <tbody>\n",
       "    <tr>\n",
       "      <th>0</th>\n",
       "      <td>AL</td>\n",
       "      <td>62435</td>\n",
       "      <td>6591</td>\n",
       "      <td>1248.0</td>\n",
       "      <td>89199</td>\n",
       "    </tr>\n",
       "    <tr>\n",
       "      <th>1</th>\n",
       "      <td>AZ</td>\n",
       "      <td>29546</td>\n",
       "      <td>2602</td>\n",
       "      <td>807.0</td>\n",
       "      <td>44432</td>\n",
       "    </tr>\n",
       "    <tr>\n",
       "      <th>2</th>\n",
       "      <td>AL</td>\n",
       "      <td>4848</td>\n",
       "      <td>93</td>\n",
       "      <td>18.0</td>\n",
       "      <td>5431</td>\n",
       "    </tr>\n",
       "    <tr>\n",
       "      <th>3</th>\n",
       "      <td>AL</td>\n",
       "      <td>12108</td>\n",
       "      <td>409</td>\n",
       "      <td>105.0</td>\n",
       "      <td>20596</td>\n",
       "    </tr>\n",
       "    <tr>\n",
       "      <th>4</th>\n",
       "      <td>AR</td>\n",
       "      <td>2350</td>\n",
       "      <td>35</td>\n",
       "      <td>15.0</td>\n",
       "      <td>1716</td>\n",
       "    </tr>\n",
       "  </tbody>\n",
       "</table>\n",
       "</div>"
      ],
      "text/plain": [
       "   ST  Clinton H  Johnson G  Stein J  Trump D\n",
       "0  AL      62435       6591   1248.0    89199\n",
       "1  AZ      29546       2602    807.0    44432\n",
       "2  AL       4848         93     18.0     5431\n",
       "3  AL      12108        409    105.0    20596\n",
       "4  AR       2350         35     15.0     1716"
      ]
     },
     "execution_count": 45,
     "metadata": {},
     "output_type": "execute_result"
    }
   ],
   "source": [
    "candidates_df.head()"
   ]
  },
  {
   "cell_type": "code",
   "execution_count": 50,
   "metadata": {
    "collapsed": false
   },
   "outputs": [],
   "source": [
    "small_candidates_df= candidates_df[candidates_df.ST.isin(candidates_df.ST.unique()[-10:])]"
   ]
  },
  {
   "cell_type": "code",
   "execution_count": 51,
   "metadata": {
    "collapsed": false
   },
   "outputs": [
    {
     "data": {
      "text/html": [
       "<div>\n",
       "<table border=\"1\" class=\"dataframe\">\n",
       "  <thead>\n",
       "    <tr style=\"text-align: right;\">\n",
       "      <th></th>\n",
       "      <th>ST</th>\n",
       "      <th>Clinton H</th>\n",
       "      <th>Johnson G</th>\n",
       "      <th>Stein J</th>\n",
       "      <th>Trump D</th>\n",
       "    </tr>\n",
       "  </thead>\n",
       "  <tbody>\n",
       "    <tr>\n",
       "      <th>1064</th>\n",
       "      <td>MI</td>\n",
       "      <td>2238</td>\n",
       "      <td>434</td>\n",
       "      <td>54.0</td>\n",
       "      <td>4704</td>\n",
       "    </tr>\n",
       "    <tr>\n",
       "      <th>1065</th>\n",
       "      <td>MI</td>\n",
       "      <td>29496</td>\n",
       "      <td>2760</td>\n",
       "      <td>662.0</td>\n",
       "      <td>38646</td>\n",
       "    </tr>\n",
       "    <tr>\n",
       "      <th>1066</th>\n",
       "      <td>MI</td>\n",
       "      <td>5137</td>\n",
       "      <td>532</td>\n",
       "      <td>178.0</td>\n",
       "      <td>8674</td>\n",
       "    </tr>\n",
       "    <tr>\n",
       "      <th>1067</th>\n",
       "      <td>MI</td>\n",
       "      <td>4302</td>\n",
       "      <td>463</td>\n",
       "      <td>140.0</td>\n",
       "      <td>8680</td>\n",
       "    </tr>\n",
       "    <tr>\n",
       "      <th>1068</th>\n",
       "      <td>MI</td>\n",
       "      <td>5378</td>\n",
       "      <td>583</td>\n",
       "      <td>243.0</td>\n",
       "      <td>9120</td>\n",
       "    </tr>\n",
       "  </tbody>\n",
       "</table>\n",
       "</div>"
      ],
      "text/plain": [
       "      ST  Clinton H  Johnson G  Stein J  Trump D\n",
       "1064  MI       2238        434     54.0     4704\n",
       "1065  MI      29496       2760    662.0    38646\n",
       "1066  MI       5137        532    178.0     8674\n",
       "1067  MI       4302        463    140.0     8680\n",
       "1068  MI       5378        583    243.0     9120"
      ]
     },
     "execution_count": 51,
     "metadata": {},
     "output_type": "execute_result"
    }
   ],
   "source": [
    "small_candidates_df.head()"
   ]
  },
  {
   "cell_type": "code",
   "execution_count": 53,
   "metadata": {
    "collapsed": false
   },
   "outputs": [],
   "source": [
    "candidates_votes = small_candidates_df.groupby('ST').sum()"
   ]
  },
  {
   "cell_type": "code",
   "execution_count": 60,
   "metadata": {
    "collapsed": false
   },
   "outputs": [],
   "source": [
    "candidates_votes = candidates_votes.reset_index()"
   ]
  },
  {
   "cell_type": "code",
   "execution_count": 64,
   "metadata": {
    "collapsed": false
   },
   "outputs": [
    {
     "data": {
      "text/html": [
       "<div>\n",
       "<table border=\"1\" class=\"dataframe\">\n",
       "  <thead>\n",
       "    <tr style=\"text-align: right;\">\n",
       "      <th></th>\n",
       "      <th>ST</th>\n",
       "      <th>Clinton H</th>\n",
       "      <th>Johnson G</th>\n",
       "      <th>Stein J</th>\n",
       "      <th>Trump D</th>\n",
       "    </tr>\n",
       "  </thead>\n",
       "  <tbody>\n",
       "    <tr>\n",
       "      <th>0</th>\n",
       "      <td>HI</td>\n",
       "      <td>266827</td>\n",
       "      <td>15949</td>\n",
       "      <td>12727.0</td>\n",
       "      <td>128815</td>\n",
       "    </tr>\n",
       "    <tr>\n",
       "      <th>1</th>\n",
       "      <td>MI</td>\n",
       "      <td>2267373</td>\n",
       "      <td>173021</td>\n",
       "      <td>50686.0</td>\n",
       "      <td>2279210</td>\n",
       "    </tr>\n",
       "    <tr>\n",
       "      <th>2</th>\n",
       "      <td>ND</td>\n",
       "      <td>93526</td>\n",
       "      <td>21351</td>\n",
       "      <td>3769.0</td>\n",
       "      <td>216133</td>\n",
       "    </tr>\n",
       "    <tr>\n",
       "      <th>3</th>\n",
       "      <td>NH</td>\n",
       "      <td>346816</td>\n",
       "      <td>30500</td>\n",
       "      <td>6265.0</td>\n",
       "      <td>345379</td>\n",
       "    </tr>\n",
       "    <tr>\n",
       "      <th>4</th>\n",
       "      <td>NJ</td>\n",
       "      <td>1979768</td>\n",
       "      <td>67520</td>\n",
       "      <td>35503.0</td>\n",
       "      <td>1516915</td>\n",
       "    </tr>\n",
       "  </tbody>\n",
       "</table>\n",
       "</div>"
      ],
      "text/plain": [
       "   ST  Clinton H  Johnson G  Stein J  Trump D\n",
       "0  HI     266827      15949  12727.0   128815\n",
       "1  MI    2267373     173021  50686.0  2279210\n",
       "2  ND      93526      21351   3769.0   216133\n",
       "3  NH     346816      30500   6265.0   345379\n",
       "4  NJ    1979768      67520  35503.0  1516915"
      ]
     },
     "execution_count": 64,
     "metadata": {},
     "output_type": "execute_result"
    }
   ],
   "source": [
    "candidates_votes.head()"
   ]
  },
  {
   "cell_type": "code",
   "execution_count": 74,
   "metadata": {
    "collapsed": false
   },
   "outputs": [
    {
     "data": {
      "text/html": [
       "<div>\n",
       "<table border=\"1\" class=\"dataframe\">\n",
       "  <thead>\n",
       "    <tr style=\"text-align: right;\">\n",
       "      <th></th>\n",
       "      <th>ST</th>\n",
       "      <th>Clinton H</th>\n",
       "      <th>Johnson G</th>\n",
       "      <th>Stein J</th>\n",
       "      <th>Trump D</th>\n",
       "    </tr>\n",
       "  </thead>\n",
       "  <tbody>\n",
       "    <tr>\n",
       "      <th>0</th>\n",
       "      <td>HI</td>\n",
       "      <td>266827</td>\n",
       "      <td>15949</td>\n",
       "      <td>12727.0</td>\n",
       "      <td>128815</td>\n",
       "    </tr>\n",
       "    <tr>\n",
       "      <th>1</th>\n",
       "      <td>MI</td>\n",
       "      <td>2267373</td>\n",
       "      <td>173021</td>\n",
       "      <td>50686.0</td>\n",
       "      <td>2279210</td>\n",
       "    </tr>\n",
       "    <tr>\n",
       "      <th>2</th>\n",
       "      <td>ND</td>\n",
       "      <td>93526</td>\n",
       "      <td>21351</td>\n",
       "      <td>3769.0</td>\n",
       "      <td>216133</td>\n",
       "    </tr>\n",
       "    <tr>\n",
       "      <th>3</th>\n",
       "      <td>NH</td>\n",
       "      <td>346816</td>\n",
       "      <td>30500</td>\n",
       "      <td>6265.0</td>\n",
       "      <td>345379</td>\n",
       "    </tr>\n",
       "    <tr>\n",
       "      <th>4</th>\n",
       "      <td>NJ</td>\n",
       "      <td>1979768</td>\n",
       "      <td>67520</td>\n",
       "      <td>35503.0</td>\n",
       "      <td>1516915</td>\n",
       "    </tr>\n",
       "  </tbody>\n",
       "</table>\n",
       "</div>"
      ],
      "text/plain": [
       "   ST  Clinton H  Johnson G  Stein J  Trump D\n",
       "0  HI     266827      15949  12727.0   128815\n",
       "1  MI    2267373     173021  50686.0  2279210\n",
       "2  ND      93526      21351   3769.0   216133\n",
       "3  NH     346816      30500   6265.0   345379\n",
       "4  NJ    1979768      67520  35503.0  1516915"
      ]
     },
     "execution_count": 74,
     "metadata": {},
     "output_type": "execute_result"
    }
   ],
   "source": [
    "candidates_votes.head()"
   ]
  },
  {
   "cell_type": "code",
   "execution_count": 80,
   "metadata": {
    "collapsed": false,
    "scrolled": true
   },
   "outputs": [],
   "source": [
    "all_candidate = []\n",
    "for can_name in 'Clinton H', 'Johnson G', 'Stein J', 'Trump D':\n",
    "    single_candidate = candidates_votes[['ST',can_name]].rename(columns={can_name:'votes'})\n",
    "    single_candidate['name'] = can_name\n",
    "    all_candidate.append(single_candidate)\n",
    "final_candidate_df = pd.concat(all_candidate)"
   ]
  },
  {
   "cell_type": "code",
   "execution_count": 84,
   "metadata": {
    "collapsed": false
   },
   "outputs": [
    {
     "data": {
      "text/html": [
       "<div>\n",
       "<table border=\"1\" class=\"dataframe\">\n",
       "  <thead>\n",
       "    <tr style=\"text-align: right;\">\n",
       "      <th></th>\n",
       "      <th>ST</th>\n",
       "      <th>votes</th>\n",
       "      <th>name</th>\n",
       "    </tr>\n",
       "  </thead>\n",
       "  <tbody>\n",
       "    <tr>\n",
       "      <th>0</th>\n",
       "      <td>HI</td>\n",
       "      <td>266827.0</td>\n",
       "      <td>Clinton H</td>\n",
       "    </tr>\n",
       "    <tr>\n",
       "      <th>1</th>\n",
       "      <td>MI</td>\n",
       "      <td>2267373.0</td>\n",
       "      <td>Clinton H</td>\n",
       "    </tr>\n",
       "  </tbody>\n",
       "</table>\n",
       "</div>"
      ],
      "text/plain": [
       "   ST      votes       name\n",
       "0  HI   266827.0  Clinton H\n",
       "1  MI  2267373.0  Clinton H"
      ]
     },
     "execution_count": 84,
     "metadata": {},
     "output_type": "execute_result"
    }
   ],
   "source": [
    "final_candidate_df.head(2)"
   ]
  },
  {
   "cell_type": "code",
   "execution_count": 83,
   "metadata": {
    "collapsed": false
   },
   "outputs": [
    {
     "data": {
      "text/plain": [
       "<matplotlib.axes._subplots.AxesSubplot at 0x12c295cc0>"
      ]
     },
     "execution_count": 83,
     "metadata": {},
     "output_type": "execute_result"
    },
    {
     "data": {
      "image/png": "[encoded data removed]",
      "text/plain": [
       "<matplotlib.figure.Figure at 0x11ce0c710>"
      ]
     },
     "metadata": {},
     "output_type": "display_data"
    }
   ],
   "source": [
    "plt.subplots(figsize=(20,8))\n",
    "sns.barplot(x='ST',y='votes',hue='name',data=final_candidate_df)"
   ]
  },
  {
   "cell_type": "code",
   "execution_count": null,
   "metadata": {
    "collapsed": true
   },
   "outputs": [],
   "source": []
  }
 ],
 "metadata": {
  "kernelspec": {
   "display_name": "Python 3",
   "language": "python",
   "name": "python3"
  },
  "language_info": {
   "codemirror_mode": {
    "name": "ipython",
    "version": 3
   },
   "file_extension": ".py",
   "mimetype": "text/x-python",
   "name": "python",
   "nbconvert_exporter": "python",
   "pygments_lexer": "ipython3",
   "version": "3.5.1"
  }
 },
 "nbformat": 4,
 "nbformat_minor": 0
}
